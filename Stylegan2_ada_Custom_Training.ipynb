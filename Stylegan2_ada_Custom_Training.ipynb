{
  "nbformat": 4,
  "nbformat_minor": 0,
  "metadata": {
    "colab": {
      "name": "Copy of Stylegan2-ada Custom Training.ipynb",
      "provenance": [],
      "private_outputs": true,
      "collapsed_sections": [],
      "toc_visible": true,
      "machine_shape": "hm",
      "include_colab_link": true
    },
    "kernelspec": {
      "name": "python3",
      "display_name": "Python 3"
    },
    "accelerator": "GPU"
  },
  "cells": [
    {
      "cell_type": "markdown",
      "metadata": {
        "id": "cPI5E5y0pujD"
      },
      "source": [
        "# Custom Training StyleGan2-ADA"
      ]
    },
    {
      "cell_type": "markdown",
      "metadata": {
        "id": "SI_i1MwgpzOD"
      },
      "source": [
        "StyleGAN2-ADA only work with Tensorflow 1. Run the next cell before anything else to make sure we’re using TF1 and not TF2."
      ]
    },
    {
      "cell_type": "code",
      "metadata": {
        "id": "iKYAU7Wub3WW"
      },
      "source": [
        "import tensorflow as tf\n",
        "print(tf.__version__)"
      ],
      "execution_count": 1,
      "outputs": [
        {
          "output_type": "stream",
          "name": "stdout",
          "text": [
            "1.14.0\n"
          ]
        }
      ]
    },
    {
      "cell_type": "code",
      "metadata": {
        "id": "51ei6d5kxVDm"
      },
      "source": [
        "!nvidia-smi"
      ],
      "execution_count": 2,
      "outputs": [
        {
          "output_type": "stream",
          "name": "stdout",
          "text": [
            "Thu Nov 12 10:24:07 2020       \n+-----------------------------------------------------------------------------+\n| NVIDIA-SMI 450.80.02    Driver Version: 450.80.02    CUDA Version: 11.0     |\n|-------------------------------+----------------------+----------------------+\n| GPU  Name        Persistence-M| Bus-Id        Disp.A | Volatile Uncorr. ECC |\n| Fan  Temp  Perf  Pwr:Usage/Cap|         Memory-Usage | GPU-Util  Compute M. |\n|                               |                      |               MIG M. |\n|===============================+======================+======================|\n|   0  GeForce GTX 1080    Off  | 00000000:01:00.0 Off |                  N/A |\n|  0%   26C    P8     6W / 180W |     11MiB /  8119MiB |      0%      Default |\n|                               |                      |                  N/A |\n+-------------------------------+----------------------+----------------------+\n                                                                               \n+-----------------------------------------------------------------------------+\n| Processes:                                                                  |\n|  GPU   GI   CI        PID   Type   Process name                  GPU Memory |\n|        ID   ID                                                   Usage      |\n|=============================================================================|\n|    0   N/A  N/A      1048      G   /usr/lib/xorg/Xorg                  4MiB |\n|    0   N/A  N/A      4425      G   /usr/lib/xorg/Xorg                  4MiB |\n+-----------------------------------------------------------------------------+\n"
          ]
        }
      ]
    },
    {
      "cell_type": "markdown",
      "metadata": {
        "id": "5YcUMPQp6ipP"
      },
      "source": [
        "## Clone Repo locally\n",
        "\n",
        "Clone the original repo on our server"
      ]
    },
    {
      "cell_type": "markdown",
      "metadata": {
        "id": "epV6TDzAjox1"
      },
      "source": [
        "Next, run this cell. If you’re already installed the repo, it will skip the installation process and change into the repo’s directory. If you haven’t installed it, it will install all the files necessary."
      ]
    },
    {
      "cell_type": "code",
      "metadata": {
        "id": "8HX77jscX2zV"
      },
      "source": [
        "import os\n",
        "if os.path.isdir(\"stylegan2-ada\"):\n",
        "    %cd \"stylegan2-ada\"\n",
        "else:\n",
        "    #install script\n",
        "    !git clone https://github.com/dvschultz/stylegan2-ada\n",
        "    %cd stylegan2-ada\n",
        "    !mkdir downloads\n",
        "    !mkdir datasets"
      ],
      "execution_count": 3,
      "outputs": [
        {
          "output_type": "stream",
          "name": "stdout",
          "text": [
            "Cloning into 'stylegan2-ada'...\n",
            "remote: Enumerating objects: 7, done.\u001b[K\n",
            "remote: Counting objects: 100% (7/7), done.\u001b[K\n",
            "remote: Compressing objects: 100% (7/7), done.\u001b[K\n",
            "remote: Total 208 (delta 1), reused 2 (delta 0), pack-reused 201\u001b[K\n",
            "Receiving objects: 100% (208/208), 1.16 MiB | 895.00 KiB/s, done.\n",
            "Resolving deltas: 100% (105/105), done.\n",
            "/home/guma/Documents/App/ML/datacrunch-stylegan2-ada/stylegan2-ada\n"
          ]
        }
      ]
    },
    {
      "cell_type": "code",
      "metadata": {
        "id": "G7oj_kBaemol"
      },
      "source": [
        "%cd \"stylegan2-ada\"\n",
        "!git config user.name \"test\"\n",
        "!git config user.email \"test@test.com\"\n",
        "!git fetch origin\n",
        "!git checkout origin/main -- train.py"
      ],
      "execution_count": null,
      "outputs": []
    },
    {
      "source": [
        "## Download dataset\n",
        "\n",
        "Upload your dataset as a zip file to Google drive and note the file ID"
      ],
      "cell_type": "markdown",
      "metadata": {}
    },
    {
      "cell_type": "code",
      "execution_count": 4,
      "metadata": {},
      "outputs": [
        {
          "output_type": "stream",
          "name": "stderr",
          "text": [
            "Downloading...\n",
            "From: https://drive.google.com/uc?id=1Hv0wiw5K5L4LxDAPqMsESm2jLeav5NYD\n",
            "To: /home/guma/Documents/App/ML/datacrunch-stylegan2-ada/stylegan2-ada/flowers-sq-1024.zip\n",
            "2.91GB [06:47, 7.13MB/s]\n"
          ]
        },
        {
          "output_type": "execute_result",
          "data": {
            "text/plain": [
              "'flowers-sq-1024.zip'"
            ]
          },
          "metadata": {},
          "execution_count": 4
        }
      ],
      "source": [
        "import gdown\n",
        "\n",
        "# file_id = 'YOUR-FILE-ID'\n",
        "file_id = '1Hv0wiw5K5L4LxDAPqMsESm2jLeav5NYD'\n",
        "\n",
        "url = f'https://drive.google.com/uc?id={file_id}'\n",
        "gdown.download(url, quiet=False)"
      ]
    },
    {
      "cell_type": "markdown",
      "metadata": {
        "id": "HeS9tDvt61VG"
      },
      "source": [
        "## Convert dataset to .tfrecords"
      ]
    },
    {
      "cell_type": "markdown",
      "metadata": {
        "id": "_Q58MJbckLUc"
      },
      "source": [
        "**Note: You only need to do this once per dataset. If you have already run this and are returning to conntinue training, skip these cells.**\n",
        "\n",
        "Next we need to convert our image dataset to a format that StyleGAN2-ADA can read from. There are two options here. You can upload your dataset directly to Colab (as a zipped file), or you can upload it to Drive directly and read it from there."
      ]
    },
    {
      "cell_type": "code",
      "metadata": {
        "id": "8JUP51nJdEjz",
        "tags": [
          "outputPrepend"
        ]
      },
      "source": [
        "#if you manually uploaded your dataset to Colab, unzip it\n",
        "# zip_path = \"YOUR-ZIP-FILE.zip\"\n",
        "zip_path = \"flowers-sq-1024.zip\"\n",
        "\n",
        "!mkdir dataset_imgs\n",
        "!unzip {zip_path} -d dataset_imgs"
      ],
      "execution_count": 5,
      "outputs": [
        {
          "output_type": "stream",
          "name": "stdout",
          "text": [
            "1024/7672796078.jpg  \n",
            "  inflating: dataset_imgs/flowers-sq-1024/4777693169.jpg  \n",
            "  inflating: dataset_imgs/flowers-sq-1024/31020160186.jpg  \n",
            "  inflating: dataset_imgs/flowers-sq-1024/17011870005.jpg  \n",
            "  inflating: dataset_imgs/flowers-sq-1024/14038240103.jpg  \n",
            "  inflating: dataset_imgs/flowers-sq-1024/6814568905.jpg  \n",
            "  inflating: dataset_imgs/flowers-sq-1024/4366025543.jpg  \n",
            "  inflating: dataset_imgs/flowers-sq-1024/17019555006.jpg  \n",
            "  inflating: dataset_imgs/flowers-sq-1024/3508445546.jpg  \n",
            "  inflating: dataset_imgs/flowers-sq-1024/5500631248.jpg  \n",
            "  inflating: dataset_imgs/flowers-sq-1024/7253894220.jpg  \n",
            "  inflating: dataset_imgs/flowers-sq-1024/12681975973.jpg  \n",
            "  inflating: dataset_imgs/flowers-sq-1024/5585247242.jpg  \n",
            "  inflating: dataset_imgs/flowers-sq-1024/5411570187.jpg  \n",
            "  inflating: dataset_imgs/flowers-sq-1024/16427046409.jpg  \n",
            "  inflating: dataset_imgs/flowers-sq-1024/13147566103.jpg  \n",
            "  inflating: dataset_imgs/flowers-sq-1024/7635980226.jpg  \n",
            "  inflating: dataset_imgs/flowers-sq-1024/5408211127.jpg  \n",
            "  inflating: dataset_imgs/flowers-sq-1024/8463866139.jpg  \n",
            "  inflating: dataset_imgs/flowers-sq-1024/16344295209.jpg  \n",
            "  inflating: dataset_imgs/flowers-sq-1024/5165869125.jpg  \n",
            "  inflating: dataset_imgs/flowers-sq-1024/7615491844.jpg  \n",
            "  inflating: dataset_imgs/flowers-sq-1024/6125233117.jpg  \n",
            "  inflating: dataset_imgs/flowers-sq-1024/2441601847.jpg  \n",
            "  inflating: dataset_imgs/flowers-sq-1024/5970879099.jpg  \n",
            "  inflating: dataset_imgs/flowers-sq-1024/4894245958.jpg  \n",
            "  inflating: dataset_imgs/flowers-sq-1024/25491912552.jpg  \n",
            "  inflating: dataset_imgs/flowers-sq-1024/18917112694.jpg  \n",
            "  inflating: dataset_imgs/flowers-sq-1024/6370310493.jpg  \n",
            "  inflating: dataset_imgs/flowers-sq-1024/8679949457.jpg  \n",
            "  inflating: dataset_imgs/flowers-sq-1024/32495620831.jpg  \n",
            "  inflating: dataset_imgs/flowers-sq-1024/14527123970.jpg  \n",
            "  inflating: dataset_imgs/flowers-sq-1024/6344492681.jpg  \n",
            "  inflating: dataset_imgs/flowers-sq-1024/10981268146.jpg  \n",
            "  inflating: dataset_imgs/flowers-sq-1024/6098057909.jpg  \n",
            "  inflating: dataset_imgs/flowers-sq-1024/2674346515.jpg  \n",
            "  inflating: dataset_imgs/flowers-sq-1024/4580977003.jpg  \n",
            "  inflating: dataset_imgs/flowers-sq-1024/20260394203.jpg  \n",
            "  inflating: dataset_imgs/flowers-sq-1024/27573704074.jpg  \n",
            "  inflating: dataset_imgs/flowers-sq-1024/31750718741.jpg  \n",
            "  inflating: dataset_imgs/flowers-sq-1024/7382213424.jpg  \n",
            "  inflating: dataset_imgs/flowers-sq-1024/6194526312.jpg  \n",
            "  inflating: dataset_imgs/flowers-sq-1024/2110999484.jpg  \n",
            "  inflating: dataset_imgs/flowers-sq-1024/2243504583.jpg  \n",
            "  inflating: dataset_imgs/flowers-sq-1024/6882324534.jpg  \n",
            "  inflating: dataset_imgs/flowers-sq-1024/1006230181.jpg  \n",
            "  inflating: dataset_imgs/flowers-sq-1024/8562984614.jpg  \n",
            "  inflating: dataset_imgs/flowers-sq-1024/14626897503.jpg  \n",
            "  inflating: dataset_imgs/flowers-sq-1024/3514280303.jpg  \n",
            "  inflating: dataset_imgs/flowers-sq-1024/5548862324.jpg  \n",
            "  inflating: dataset_imgs/flowers-sq-1024/7557133326.jpg  \n",
            "  inflating: dataset_imgs/flowers-sq-1024/30864911634.jpg  \n",
            "  inflating: dataset_imgs/flowers-sq-1024/26490153284.jpg  \n",
            "  inflating: dataset_imgs/flowers-sq-1024/17741152982.jpg  \n",
            "  inflating: dataset_imgs/flowers-sq-1024/50008716758.jpg  \n",
            "  inflating: dataset_imgs/flowers-sq-1024/6355694509.jpg  \n",
            "  inflating: dataset_imgs/flowers-sq-1024/37460892812.jpg  \n",
            "  inflating: dataset_imgs/flowers-sq-1024/2144855805.jpg  \n",
            "  inflating: dataset_imgs/flowers-sq-1024/14889941185.jpg  \n",
            "  inflating: dataset_imgs/flowers-sq-1024/156397505.jpg  \n",
            "  inflating: dataset_imgs/flowers-sq-1024/5136405269.jpg  \n",
            "  inflating: dataset_imgs/flowers-sq-1024/4214231513.jpg  \n",
            "  inflating: dataset_imgs/flowers-sq-1024/7263565474.jpg  \n",
            "  inflating: dataset_imgs/flowers-sq-1024/16338514371.jpg  \n",
            "  inflating: dataset_imgs/flowers-sq-1024/28034391824.jpg  \n",
            "  inflating: dataset_imgs/flowers-sq-1024/128230701.jpg  \n",
            "  inflating: dataset_imgs/flowers-sq-1024/8661536440.jpg  \n",
            "  inflating: dataset_imgs/flowers-sq-1024/14059148982.jpg  \n",
            "  inflating: dataset_imgs/flowers-sq-1024/25239976633.jpg  \n",
            "  inflating: dataset_imgs/flowers-sq-1024/6770347985.jpg  \n",
            "  inflating: dataset_imgs/flowers-sq-1024/16094687065.jpg  \n",
            "  inflating: dataset_imgs/flowers-sq-1024/13932626001.jpg  \n",
            "  inflating: dataset_imgs/flowers-sq-1024/5866190487.jpg  \n",
            "  inflating: dataset_imgs/flowers-sq-1024/5507216470.jpg  \n",
            "  inflating: dataset_imgs/flowers-sq-1024/26341979900.jpg  \n",
            "  inflating: dataset_imgs/flowers-sq-1024/26473436995.jpg  \n",
            "  inflating: dataset_imgs/flowers-sq-1024/15517205133.jpg  \n",
            "  inflating: dataset_imgs/flowers-sq-1024/5537323604.jpg  \n",
            "  inflating: dataset_imgs/flowers-sq-1024/15956331265.jpg  \n",
            "  inflating: dataset_imgs/flowers-sq-1024/32260891392.jpg  \n",
            "  inflating: dataset_imgs/flowers-sq-1024/5597901603.jpg  \n",
            "  inflating: dataset_imgs/flowers-sq-1024/2436709997.jpg  \n",
            "  inflating: dataset_imgs/flowers-sq-1024/2676403325.jpg  \n",
            "  inflating: dataset_imgs/flowers-sq-1024/16324539576.jpg  \n",
            "  inflating: dataset_imgs/flowers-sq-1024/32131903430.jpg  \n",
            "  inflating: dataset_imgs/flowers-sq-1024/6806195649.jpg  \n",
            "  inflating: dataset_imgs/flowers-sq-1024/5001749197.jpg  \n",
            "  inflating: dataset_imgs/flowers-sq-1024/6996399568.jpg  \n",
            "  inflating: dataset_imgs/flowers-sq-1024/14109827211.jpg  \n",
            "  inflating: dataset_imgs/flowers-sq-1024/15158770490.jpg  \n",
            "  inflating: dataset_imgs/flowers-sq-1024/4561942773.jpg  \n",
            "  inflating: dataset_imgs/flowers-sq-1024/16320892933.jpg  \n",
            "  inflating: dataset_imgs/flowers-sq-1024/5266378130.jpg  \n",
            "  inflating: dataset_imgs/flowers-sq-1024/24270891644.jpg  \n",
            "  inflating: dataset_imgs/flowers-sq-1024/16901761009.jpg  \n",
            "  inflating: dataset_imgs/flowers-sq-1024/8554718617.jpg  \n",
            "  inflating: dataset_imgs/flowers-sq-1024/7813528946.jpg  \n",
            "  inflating: dataset_imgs/flowers-sq-1024/3508539894.jpg  \n",
            "  inflating: dataset_imgs/flowers-sq-1024/5531721618.jpg  \n",
            "  inflating: dataset_imgs/flowers-sq-1024/64092901.jpg  \n",
            "  inflating: dataset_imgs/flowers-sq-1024/14209259344.jpg  \n",
            "  inflating: dataset_imgs/flowers-sq-1024/4855226411.jpg  \n",
            "  inflating: dataset_imgs/flowers-sq-1024/9285004185.jpg  \n",
            "  inflating: dataset_imgs/flowers-sq-1024/5418984635.jpg  \n",
            "  inflating: dataset_imgs/flowers-sq-1024/15972321326.jpg  \n",
            "  inflating: dataset_imgs/flowers-sq-1024/14796804721.jpg  \n",
            "  inflating: dataset_imgs/flowers-sq-1024/24938794148.jpg  \n",
            "  inflating: dataset_imgs/flowers-sq-1024/14132865821.jpg  \n",
            "  inflating: dataset_imgs/flowers-sq-1024/141903623.jpg  \n",
            "  inflating: dataset_imgs/flowers-sq-1024/12256399526.jpg  \n",
            "  inflating: dataset_imgs/flowers-sq-1024/7553190152.jpg  \n",
            "  inflating: dataset_imgs/flowers-sq-1024/14045621222.jpg  \n",
            "  inflating: dataset_imgs/flowers-sq-1024/23057051749.jpg  \n",
            "  inflating: dataset_imgs/flowers-sq-1024/4525948703.jpg  \n",
            "  inflating: dataset_imgs/flowers-sq-1024/12682065655.jpg  \n",
            "  inflating: dataset_imgs/flowers-sq-1024/5951756853.jpg  \n",
            "  inflating: dataset_imgs/flowers-sq-1024/6741367225.jpg  \n",
            "  inflating: dataset_imgs/flowers-sq-1024/4583965619.jpg  \n",
            "  inflating: dataset_imgs/flowers-sq-1024/5678405788.jpg  \n",
            "  inflating: dataset_imgs/flowers-sq-1024/6089402266.jpg  \n",
            "  inflating: dataset_imgs/flowers-sq-1024/9703785607.jpg  \n",
            "  inflating: dataset_imgs/flowers-sq-1024/8665044926.jpg  \n",
            "  inflating: dataset_imgs/flowers-sq-1024/7167747470.jpg  \n",
            "  inflating: dataset_imgs/flowers-sq-1024/8464700372.jpg  \n",
            "  inflating: dataset_imgs/flowers-sq-1024/5978959966.jpg  \n",
            "  inflating: dataset_imgs/flowers-sq-1024/7996840557.jpg  \n",
            "  inflating: dataset_imgs/flowers-sq-1024/6796370312.jpg  \n",
            "  inflating: dataset_imgs/flowers-sq-1024/98531469.jpg  \n",
            "  inflating: dataset_imgs/flowers-sq-1024/7591602082.jpg  \n",
            "  inflating: dataset_imgs/flowers-sq-1024/2100790638.jpg  \n",
            "  inflating: dataset_imgs/flowers-sq-1024/18137758720.jpg  \n",
            "  inflating: dataset_imgs/flowers-sq-1024/8083367083.jpg  \n",
            "  inflating: dataset_imgs/flowers-sq-1024/18274853295.jpg  \n",
            "  inflating: dataset_imgs/flowers-sq-1024/10998718286.jpg  \n",
            "  inflating: dataset_imgs/flowers-sq-1024/5513031467.jpg  \n",
            "  inflating: dataset_imgs/flowers-sq-1024/2394986666.jpg  \n",
            "  inflating: dataset_imgs/flowers-sq-1024/2520325123.jpg  \n",
            "  inflating: dataset_imgs/flowers-sq-1024/4860471698.jpg  \n",
            "  inflating: dataset_imgs/flowers-sq-1024/15068043659.jpg  \n",
            "  inflating: dataset_imgs/flowers-sq-1024/31184199592.jpg  \n",
            "  inflating: dataset_imgs/flowers-sq-1024/7997446692.jpg  \n",
            "  inflating: dataset_imgs/flowers-sq-1024/6833695598.jpg  \n",
            "  inflating: dataset_imgs/flowers-sq-1024/5036197431.jpg  \n",
            "  inflating: dataset_imgs/flowers-sq-1024/2121636217.jpg  \n",
            "  inflating: dataset_imgs/flowers-sq-1024/113436531.jpg  \n",
            "  inflating: dataset_imgs/flowers-sq-1024/6857817522.jpg  \n",
            "  inflating: dataset_imgs/flowers-sq-1024/3554241052.jpg  \n",
            "  inflating: dataset_imgs/flowers-sq-1024/5013159655.jpg  \n",
            "  inflating: dataset_imgs/flowers-sq-1024/15906752444.jpg  \n",
            "  inflating: dataset_imgs/flowers-sq-1024/8467276557.jpg  \n",
            "  inflating: dataset_imgs/flowers-sq-1024/157372313.jpg  \n",
            "  inflating: dataset_imgs/flowers-sq-1024/26652690066.jpg  \n",
            "  inflating: dataset_imgs/flowers-sq-1024/7050090771.jpg  \n",
            "  inflating: dataset_imgs/flowers-sq-1024/3693855114.jpg  \n",
            "  inflating: dataset_imgs/flowers-sq-1024/20075974375.jpg  \n",
            "  inflating: dataset_imgs/flowers-sq-1024/4588685521.jpg  \n",
            "  inflating: dataset_imgs/flowers-sq-1024/25617134650.jpg  \n",
            "  inflating: dataset_imgs/flowers-sq-1024/6388702147.jpg  \n",
            "  inflating: dataset_imgs/flowers-sq-1024/16626537723.jpg  \n",
            "  inflating: dataset_imgs/flowers-sq-1024/24649762334.jpg  \n",
            "  inflating: dataset_imgs/flowers-sq-1024/7656692402.jpg  \n",
            "  inflating: dataset_imgs/flowers-sq-1024/8636693838.jpg  \n",
            "  inflating: dataset_imgs/flowers-sq-1024/2480729296.jpg  \n",
            "  inflating: dataset_imgs/flowers-sq-1024/14782612176.jpg  \n",
            "  inflating: dataset_imgs/flowers-sq-1024/6131271708.jpg  \n",
            "  inflating: dataset_imgs/flowers-sq-1024/46303862864.jpg  \n",
            "  inflating: dataset_imgs/flowers-sq-1024/5686053960.jpg  \n",
            "  inflating: dataset_imgs/flowers-sq-1024/5314299637.jpg  \n",
            "  inflating: dataset_imgs/flowers-sq-1024/7667206614.jpg  \n",
            "  inflating: dataset_imgs/flowers-sq-1024/17174426059.jpg  \n",
            "  inflating: dataset_imgs/flowers-sq-1024/15400344451.jpg  \n",
            "  inflating: dataset_imgs/flowers-sq-1024/5356471065.jpg  \n",
            "  inflating: dataset_imgs/flowers-sq-1024/137501967.jpg  \n",
            "  inflating: dataset_imgs/flowers-sq-1024/31574885283.jpg  \n",
            "  inflating: dataset_imgs/flowers-sq-1024/8545830016.jpg  \n",
            "  inflating: dataset_imgs/flowers-sq-1024/12750540793.jpg  \n",
            "  inflating: dataset_imgs/flowers-sq-1024/16216948533.jpg  \n",
            "  inflating: dataset_imgs/flowers-sq-1024/7267708658.jpg  \n",
            "  inflating: dataset_imgs/flowers-sq-1024/2325686176.jpg  \n",
            "  inflating: dataset_imgs/flowers-sq-1024/5154330566.jpg  \n",
            "  inflating: dataset_imgs/flowers-sq-1024/6581876403.jpg  \n",
            "  inflating: dataset_imgs/flowers-sq-1024/5290033266.jpg  \n",
            "  inflating: dataset_imgs/flowers-sq-1024/14133606877.jpg  \n",
            "  inflating: dataset_imgs/flowers-sq-1024/14073191348.jpg  \n",
            "  inflating: dataset_imgs/flowers-sq-1024/28405277592.jpg  \n",
            "  inflating: dataset_imgs/flowers-sq-1024/8275322942.jpg  \n",
            "  inflating: dataset_imgs/flowers-sq-1024/4559847027.jpg  \n",
            "  inflating: dataset_imgs/flowers-sq-1024/67445295.jpg  \n",
            "  inflating: dataset_imgs/flowers-sq-1024/5934016580.jpg  \n",
            "  inflating: dataset_imgs/flowers-sq-1024/5481496905.jpg  \n",
            "  inflating: dataset_imgs/flowers-sq-1024/7780348232.jpg  \n",
            "  inflating: dataset_imgs/flowers-sq-1024/5885964023.jpg  \n",
            "  inflating: dataset_imgs/flowers-sq-1024/16756741980.jpg  \n",
            "  inflating: dataset_imgs/flowers-sq-1024/8506907368.jpg  \n",
            "  inflating: dataset_imgs/flowers-sq-1024/14273254853.jpg  \n",
            "  inflating: dataset_imgs/flowers-sq-1024/16445686614.jpg  \n",
            "  inflating: dataset_imgs/flowers-sq-1024/9957584316.jpg  \n",
            "  inflating: dataset_imgs/flowers-sq-1024/6770112257.jpg  \n",
            "  inflating: dataset_imgs/flowers-sq-1024/7714795842.jpg  \n",
            "  inflating: dataset_imgs/flowers-sq-1024/5595669536.jpg  \n",
            "  inflating: dataset_imgs/flowers-sq-1024/3258648819.jpg  \n",
            "  inflating: dataset_imgs/flowers-sq-1024/28007902324.jpg  \n",
            "  inflating: dataset_imgs/flowers-sq-1024/28621986802.jpg  \n",
            "  inflating: dataset_imgs/flowers-sq-1024/109067838.jpg  \n",
            "  inflating: dataset_imgs/flowers-sq-1024/8679039255.jpg  \n",
            "  inflating: dataset_imgs/flowers-sq-1024/27793236221.jpg  \n",
            "  inflating: dataset_imgs/flowers-sq-1024/6982791923.jpg  \n",
            "  inflating: dataset_imgs/flowers-sq-1024/17002406620.jpg  \n",
            "  inflating: dataset_imgs/flowers-sq-1024/7531778366.jpg  \n",
            "  inflating: dataset_imgs/flowers-sq-1024/5303412912.jpg  \n",
            "  inflating: dataset_imgs/flowers-sq-1024/19441686360.jpg  \n",
            "  inflating: dataset_imgs/flowers-sq-1024/5980611239.jpg  \n",
            "  inflating: dataset_imgs/flowers-sq-1024/6788841197.jpg  \n",
            "  inflating: dataset_imgs/flowers-sq-1024/8708752389.jpg  \n",
            "  inflating: dataset_imgs/flowers-sq-1024/7388144776.jpg  \n",
            "  inflating: dataset_imgs/flowers-sq-1024/18470354534.jpg  \n",
            "  inflating: dataset_imgs/flowers-sq-1024/16394938028.jpg  \n",
            "  inflating: dataset_imgs/flowers-sq-1024/33086615302.jpg  \n",
            "  inflating: dataset_imgs/flowers-sq-1024/15182036567.jpg  \n",
            "  inflating: dataset_imgs/flowers-sq-1024/15868422820.jpg  \n",
            "  inflating: dataset_imgs/flowers-sq-1024/15659022914.jpg  \n",
            "  inflating: dataset_imgs/flowers-sq-1024/15783293189.jpg  \n",
            "  inflating: dataset_imgs/flowers-sq-1024/64491580.jpg  \n",
            "  inflating: dataset_imgs/flowers-sq-1024/5147757140.jpg  \n",
            "  inflating: dataset_imgs/flowers-sq-1024/8742701052.jpg  \n",
            "  inflating: dataset_imgs/flowers-sq-1024/8667961948.jpg  \n",
            "  inflating: dataset_imgs/flowers-sq-1024/3184956753.jpg  \n",
            "  inflating: dataset_imgs/flowers-sq-1024/3588058057.jpg  \n",
            "  inflating: dataset_imgs/flowers-sq-1024/32245230122.jpg  \n",
            "  inflating: dataset_imgs/flowers-sq-1024/27356143023.jpg  \n",
            "  inflating: dataset_imgs/flowers-sq-1024/1164980673.jpg  \n",
            "  inflating: dataset_imgs/flowers-sq-1024/14368062797.jpg  \n",
            "  inflating: dataset_imgs/flowers-sq-1024/16082350953.jpg  \n",
            "  inflating: dataset_imgs/flowers-sq-1024/9309776797.jpg  \n",
            "  inflating: dataset_imgs/flowers-sq-1024/46806621825.jpg  \n",
            "  inflating: dataset_imgs/flowers-sq-1024/7777540356.jpg  \n",
            "  inflating: dataset_imgs/flowers-sq-1024/5164201560.jpg  \n",
            "  inflating: dataset_imgs/flowers-sq-1024/8549803735.jpg  \n",
            "  inflating: dataset_imgs/flowers-sq-1024/527237694.jpg  \n",
            "  inflating: dataset_imgs/flowers-sq-1024/7030270781.jpg  \n",
            "  inflating: dataset_imgs/flowers-sq-1024/8512351850.jpg  \n",
            "  inflating: dataset_imgs/flowers-sq-1024/7155801307.jpg  \n",
            "  inflating: dataset_imgs/flowers-sq-1024/7364276922.jpg  \n",
            "  inflating: dataset_imgs/flowers-sq-1024/15567786082.jpg  \n",
            "  inflating: dataset_imgs/flowers-sq-1024/31435192873.jpg  \n",
            "  inflating: dataset_imgs/flowers-sq-1024/29732719303.jpg  \n",
            "  inflating: dataset_imgs/flowers-sq-1024/14630458579.jpg  \n",
            "  inflating: dataset_imgs/flowers-sq-1024/39804909.jpg  \n",
            "  inflating: dataset_imgs/flowers-sq-1024/7325708422.jpg  \n",
            "  inflating: dataset_imgs/flowers-sq-1024/7301267142.jpg  \n",
            "  inflating: dataset_imgs/flowers-sq-1024/1347827691.jpg  \n",
            "  inflating: dataset_imgs/flowers-sq-1024/5245487276.jpg  \n",
            "  inflating: dataset_imgs/flowers-sq-1024/15978616518.jpg  \n",
            "  inflating: dataset_imgs/flowers-sq-1024/8248657458.jpg  \n",
            "  inflating: dataset_imgs/flowers-sq-1024/4316429102.jpg  \n",
            "  inflating: dataset_imgs/flowers-sq-1024/4955185556.jpg  \n",
            "  inflating: dataset_imgs/flowers-sq-1024/15124057850.jpg  \n",
            "  inflating: dataset_imgs/flowers-sq-1024/5401783622.jpg  \n",
            "  inflating: dataset_imgs/flowers-sq-1024/7178312480.jpg  \n",
            "  inflating: dataset_imgs/flowers-sq-1024/3007814676.jpg  \n",
            "  inflating: dataset_imgs/flowers-sq-1024/5339662954.jpg  \n",
            "  inflating: dataset_imgs/flowers-sq-1024/5042994003.jpg  \n",
            "  inflating: dataset_imgs/flowers-sq-1024/46293228375.jpg  \n",
            "  inflating: dataset_imgs/flowers-sq-1024/16571364913.jpg  \n",
            "  inflating: dataset_imgs/flowers-sq-1024/8007375360.jpg  \n",
            "  inflating: dataset_imgs/flowers-sq-1024/5324697839.jpg  \n",
            "  inflating: dataset_imgs/flowers-sq-1024/9702033821.jpg  \n",
            "  inflating: dataset_imgs/flowers-sq-1024/5302986192.jpg  \n",
            "  inflating: dataset_imgs/flowers-sq-1024/8527004208.jpg  \n",
            "  inflating: dataset_imgs/flowers-sq-1024/2407891943.jpg  \n",
            "  inflating: dataset_imgs/flowers-sq-1024/16115465090.jpg  \n",
            "  inflating: dataset_imgs/flowers-sq-1024/8671683429.jpg  \n",
            "  inflating: dataset_imgs/flowers-sq-1024/203728145.jpg  \n",
            "  inflating: dataset_imgs/flowers-sq-1024/8284455429.jpg  \n",
            "  inflating: dataset_imgs/flowers-sq-1024/7006772552.jpg  \n",
            "  inflating: dataset_imgs/flowers-sq-1024/27502133901.jpg  \n",
            "  inflating: dataset_imgs/flowers-sq-1024/7030307509.jpg  \n",
            "  inflating: dataset_imgs/flowers-sq-1024/5188235657.jpg  \n",
            "  inflating: dataset_imgs/flowers-sq-1024/7067360685.jpg  \n",
            "  inflating: dataset_imgs/flowers-sq-1024/13995813266.jpg  \n",
            "  inflating: dataset_imgs/flowers-sq-1024/8076471577.jpg  \n",
            "  inflating: dataset_imgs/flowers-sq-1024/7172436736.jpg  \n",
            "  inflating: dataset_imgs/flowers-sq-1024/9906671143.jpg  \n",
            "  inflating: dataset_imgs/flowers-sq-1024/28501056486.jpg  \n",
            "  inflating: dataset_imgs/flowers-sq-1024/5757776802.jpg  \n",
            "  inflating: dataset_imgs/flowers-sq-1024/18510687071.jpg  \n",
            "  inflating: dataset_imgs/flowers-sq-1024/6994459150.jpg  \n",
            "  inflating: dataset_imgs/flowers-sq-1024/8565185853.jpg  \n",
            "  inflating: dataset_imgs/flowers-sq-1024/17299673880.jpg  \n",
            "  inflating: dataset_imgs/flowers-sq-1024/5873100020.jpg  \n",
            "  inflating: dataset_imgs/flowers-sq-1024/476034073.jpg  \n",
            "  inflating: dataset_imgs/flowers-sq-1024/179639007.jpg  \n",
            "  inflating: dataset_imgs/flowers-sq-1024/49429063593.jpg  \n",
            "  inflating: dataset_imgs/flowers-sq-1024/7388931554.jpg  \n",
            "  inflating: dataset_imgs/flowers-sq-1024/137631149.jpg  \n",
            "  inflating: dataset_imgs/flowers-sq-1024/49812947082.jpg  \n",
            "  inflating: dataset_imgs/flowers-sq-1024/5418322344.jpg  \n",
            "  inflating: dataset_imgs/flowers-sq-1024/7707203286.jpg  \n",
            "  inflating: dataset_imgs/flowers-sq-1024/7825495148.jpg  \n",
            "  inflating: dataset_imgs/flowers-sq-1024/4610379746.jpg  \n",
            "  inflating: dataset_imgs/flowers-sq-1024/8469916122.jpg  \n",
            "  inflating: dataset_imgs/flowers-sq-1024/6291382734.jpg  \n",
            "  inflating: dataset_imgs/flowers-sq-1024/8729779327.jpg  \n",
            "  inflating: dataset_imgs/flowers-sq-1024/32668213487.jpg  \n",
            "  inflating: dataset_imgs/flowers-sq-1024/25138906924.jpg  \n",
            "  inflating: dataset_imgs/flowers-sq-1024/6242142831.jpg  \n",
            "  inflating: dataset_imgs/flowers-sq-1024/4485942754.jpg  \n",
            "  inflating: dataset_imgs/flowers-sq-1024/8564383619.jpg  \n",
            "  inflating: dataset_imgs/flowers-sq-1024/5651776670.jpg  \n",
            "  inflating: dataset_imgs/flowers-sq-1024/2586358197.jpg  \n",
            "  inflating: dataset_imgs/flowers-sq-1024/27432726716.jpg  \n",
            "  inflating: dataset_imgs/flowers-sq-1024/14004328602.jpg  \n",
            "  inflating: dataset_imgs/flowers-sq-1024/5508462539.jpg  \n",
            "  inflating: dataset_imgs/flowers-sq-1024/2426844372.jpg  \n",
            "  inflating: dataset_imgs/flowers-sq-1024/6079069484.jpg  \n",
            "  inflating: dataset_imgs/flowers-sq-1024/5608455866.jpg  \n",
            "  inflating: dataset_imgs/flowers-sq-1024/4651822213.jpg  \n",
            "  inflating: dataset_imgs/flowers-sq-1024/8274108235.jpg  \n",
            "  inflating: dataset_imgs/flowers-sq-1024/16048584212.jpg  \n",
            "  inflating: dataset_imgs/flowers-sq-1024/14377686470.jpg  \n",
            "  inflating: dataset_imgs/flowers-sq-1024/2867390716.jpg  \n",
            "  inflating: dataset_imgs/flowers-sq-1024/17139257320.jpg  \n",
            "  inflating: dataset_imgs/flowers-sq-1024/15690501453.jpg  \n",
            "  inflating: dataset_imgs/flowers-sq-1024/27127199291.jpg  \n",
            "  inflating: dataset_imgs/flowers-sq-1024/6985925179.jpg  \n",
            "  inflating: dataset_imgs/flowers-sq-1024/16879409122.jpg  \n",
            "  inflating: dataset_imgs/flowers-sq-1024/5303267873.jpg  \n",
            "  inflating: dataset_imgs/flowers-sq-1024/5515864141.jpg  \n",
            "  inflating: dataset_imgs/flowers-sq-1024/6834079041.jpg  \n",
            "  inflating: dataset_imgs/flowers-sq-1024/6107800845.jpg  \n",
            "  inflating: dataset_imgs/flowers-sq-1024/6328394995.jpg  \n",
            "  inflating: dataset_imgs/flowers-sq-1024/7325473766.jpg  \n",
            "  inflating: dataset_imgs/flowers-sq-1024/6149623601.jpg  \n",
            "  inflating: dataset_imgs/flowers-sq-1024/14792630026.jpg  \n",
            "  inflating: dataset_imgs/flowers-sq-1024/5693351438.jpg  \n",
            "  inflating: dataset_imgs/flowers-sq-1024/8275312856.jpg  \n",
            "  inflating: dataset_imgs/flowers-sq-1024/5915074648.jpg  \n",
            "  inflating: dataset_imgs/flowers-sq-1024/244174450.jpg  \n"
          ]
        }
      ]
    },
    {
      "cell_type": "markdown",
      "metadata": {
        "id": "D0QH0nzjlbEE"
      },
      "source": [
        "Now that your image dataset is uploaded, we need to convert it to the `.tfrecords` format.\n",
        "\n",
        "Depending on the resolution of your images and how many you have, this can take a while."
      ]
    },
    {
      "cell_type": "code",
      "metadata": {
        "id": "T-BZHhBe7AvO"
      },
      "source": [
        "#update this to the path to your image folder\n",
        "dataset_path = \"dataset_imgs/flowers-sq-1024\"\n",
        "#give your dataset a name\n",
        "dataset_name = \"flowers-sq-1024\"\n",
        "\n",
        "#you don't need to edit anything here\n",
        "!python dataset_tool.py create_from_images ./datasets/{dataset_name} {dataset_path}"
      ],
      "execution_count": 9,
      "outputs": [
        {
          "output_type": "stream",
          "name": "stdout",
          "text": [
            "Loading images from \"dataset_imgs/flowers-sq-1024\"\n",
            "Creating dataset \"./datasets/flowers-sq-1024\"\n",
            "^C\n",
            "  8%|██▊                                 | 2230/28273 [06:12<1:12:26,  5.99it/s]\n"
          ]
        }
      ]
    },
    {
      "cell_type": "markdown",
      "metadata": {
        "id": "8DvTupHzP2s_"
      },
      "source": [
        "## Train a custom model\n",
        "\n",
        "We’re ready to start training! There are numerous arguments to training, what’s listed below are the most popular options. To see all the options, run the following cell."
      ]
    },
    {
      "cell_type": "code",
      "metadata": {
        "id": "Fxu7CA0Qb1Yd"
      },
      "source": [
        "!python train.py --help"
      ],
      "execution_count": null,
      "outputs": []
    },
    {
      "cell_type": "code",
      "metadata": {
        "id": "jOftFoyiDU3s"
      },
      "source": [
        "#this name must EXACTLY match the dataset name you used when creating the .tfrecords file\n",
        "dataset_name = \"flowers-sq-1024\"\n",
        "#how often should the model generate samples and a .pkl file\n",
        "snapshot_count = 4\n",
        "#should the images be mirrored left to right?\n",
        "mirrored = True\n",
        "#should the images be mirrored top to bottom?\n",
        "mirroredY = False\n",
        "#metrics? \n",
        "metric_list = None\n",
        "#augments\n",
        "augs = \"bg\"\n",
        "\n",
        "#\n",
        "# this is the most important cell to update\n",
        "#\n",
        "# running it for the first time? set it to ffhq(+resolution)\n",
        "# resuming? get the path to your latest .pkl file and use that\n",
        "# resume_from = \"/content/drive/My\\ Drive/colab-sg2-ada2/stylegan2-ada/results/00008-dante1024-mirror-mirrory-11gb-gpu-bg-resumecustom/network-snapshot-000160.pkl\"\n",
        "resume_from = \"ffhq1024\"\n",
        "#don't edit this unless you know what you're doing :)\n",
        "!python train.py --outdir ./results --snap={snapshot_count} --cfg=11gb-gpu --data=./datasets/{dataset_name} --augpipe={augs} --mirror={mirrored} --mirrory={mirroredY} --metrics={metric_list} --resume={resume_from} --augpipe=\"bg\""
      ],
      "execution_count": null,
      "outputs": []
    },
    {
      "cell_type": "markdown",
      "metadata": {
        "id": "lohotw1FqC54"
      },
      "source": [
        "### While it’s training...\n",
        "**Once the above cell is running you should be training!**\n",
        "\n",
        "Don’t close this tab! Colab needs to be open and running in order to continue training. Every ~15min or so a new line should get added to your output, indicated its still training. Depending on you `snapshot_count` setting you should see the results folder in your Google drive folder fill with both samples (`fakesXXXXXx.jpg`) and model weights (`network-snapshot-XXXXXX.pkl`). The samples are worth looking at while it trains but don’t get too worried about each individual sample.\n",
        "\n",
        "If you chose a metric, you will also see scores for each snapshot. Don’t obsess over these! they are a guide, it can go up or down slightly for each snapshot. What you want to see is a gradual lowering of the score over time.\n",
        "\n",
        "Once Colab shuts off, you can Reconnect the notebook and re-run every cell from top to bottom. Make sure you update the `resume_from` path to continue training from the latest model."
      ]
    },
    {
      "cell_type": "code",
      "metadata": {
        "id": "UZR4ireZE6JF"
      },
      "source": [
        ""
      ],
      "execution_count": null,
      "outputs": []
    }
  ]
}